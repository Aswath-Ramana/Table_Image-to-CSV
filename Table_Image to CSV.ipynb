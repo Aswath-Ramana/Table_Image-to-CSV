{
 "cells": [
  {
   "cell_type": "code",
   "execution_count": 1,
   "metadata": {},
   "outputs": [],
   "source": [
    "import pytesseract\n",
    "pytesseract.pytesseract.tesseract_cmd=r\"C:\\Program Files\\Tesseract-OCR\\tesseract.exe\""
   ]
  },
  {
   "cell_type": "code",
   "execution_count": 2,
   "metadata": {},
   "outputs": [],
   "source": [
    "import cv2"
   ]
  },
  {
   "cell_type": "code",
   "execution_count": 41,
   "metadata": {},
   "outputs": [
    {
     "name": "stdout",
     "output_type": "stream",
     "text": [
      "\n",
      "         A         B       c       D       E \n",
      "  1  LastName  Sales    Country Quarter \n",
      "  2  smith    1$16.753.00 uk    Qtr3 \n",
      "  3 Johnson    $14.808.00 USA   Qtr 4 \n",
      "  4 Williams    $10.644.00 UK   Qtr2 \n",
      "  5 Jones       $1390.00 USA    tr3 \n",
      "  6  Brown      $4865.00 USA    tra \n",
      "  7 Williams   $12.438.00 UK    Qtr. \n",
      "  8 Johnson     $9339.00 UK     Qtr2 \n",
      "  9 smith      $18919.00 USA    Qtr3 \n",
      "  10 Jones      $9213.00 USA    Qtr \n",
      "  11 Jones      $7/433.00 UK    Qtr \n",
      "  12/Brown      $3255.00 USA    Qtr2 \n",
      "  13 Williams  $14.867.00 USA   Qtr3 \n",
      "  14 Williams  $19302.00 UK     atr4 \n",
      "  15 /Smith     $9.698.00 USA   Qtr \n",
      "  16 \n",
      "\n"
     ]
    }
   ],
   "source": [
    "from pytesseract import Output\n",
    "import pandas as pd\n",
    "\n",
    "img = cv2.imread(r'E:\\Data Science\\AI_ChatBot_Python-master\\image.png')\n",
    "img = cv2.resize(img, (int(img.shape[1] + (img.shape[1] * .1)),\n",
    "                       int(img.shape[0] + (img.shape[0] * .25))),\n",
    "                 interpolation=cv2.INTER_AREA)\n",
    "\n",
    "img_rgb = cv2.cvtColor(img,cv2.COLOR_BGR2RGB)\n",
    "\n",
    "custom_config = r'-l eng --oem 3 --psm 6 -c tessedit_char_whitelist=\"ABCDEFGHIJKLMNOPQRSTUVWXYZabcdefghijklmnopqrstuvwxyz0123456789-:.$%./@& *\"'\n",
    "d = pytesseract.image_to_data(img_rgb, config=custom_config, output_type=Output.DICT)\n",
    "df = pd.DataFrame(d)\n",
    "\n",
    "# clean up blanks\n",
    "df1 = df[(df.conf != '-1') & (df.text != ' ') & (df.text != '')]\n",
    "pd.set_option('display.max_rows', None)\n",
    "pd.set_option('display.max_columns', None)\n",
    "\n",
    "# sort blocks vertically\n",
    "sorted_blocks = df1.groupby('block_num').first().sort_values('top').index.tolist()\n",
    "for block in sorted_blocks:\n",
    "    curr = df1[df1['block_num'] == block]\n",
    "    sel = curr[curr.text.str.len() > 3]\n",
    "    # sel = curr\n",
    "    char_w = (sel.width / sel.text.str.len()).mean()\n",
    "    prev_par, prev_line, prev_left = 0, 0, 0\n",
    "    text = ''\n",
    "    for ix, ln in curr.iterrows():\n",
    "        # add new line when necessary\n",
    "        if prev_par != ln['par_num']:\n",
    "            text += '\\n'\n",
    "            prev_par = ln['par_num']\n",
    "            prev_line = ln['line_num']\n",
    "            prev_left = 0\n",
    "        elif prev_line != ln['line_num']:\n",
    "            text += '\\n'\n",
    "            prev_line = ln['line_num']\n",
    "            prev_left = 0\n",
    "\n",
    "        added = 0  # num of spaces that should be added\n",
    "        if ln['left'] / char_w > prev_left + 1:\n",
    "            added = int((ln['left']) / char_w) - prev_left\n",
    "            text += ' ' * added\n",
    "        text += ln['text'] + ' '\n",
    "        prev_left += len(ln['text']) + added + 1\n",
    "    text += '\\n'\n",
    "    print(text)"
   ]
  },
  {
   "cell_type": "code",
   "execution_count": 42,
   "metadata": {},
   "outputs": [
    {
     "data": {
      "text/plain": [
       "str"
      ]
     },
     "execution_count": 42,
     "metadata": {},
     "output_type": "execute_result"
    }
   ],
   "source": [
    "type(text)"
   ]
  },
  {
   "cell_type": "code",
   "execution_count": 50,
   "metadata": {},
   "outputs": [],
   "source": [
    "with open('test2.csv','w') as f: \n",
    "    f.write(text)"
   ]
  },
  {
   "cell_type": "code",
   "execution_count": 44,
   "metadata": {},
   "outputs": [],
   "source": [
    "from functools import reduce"
   ]
  },
  {
   "cell_type": "code",
   "execution_count": 46,
   "metadata": {},
   "outputs": [],
   "source": [
    "s=text\n",
    "c=reduce( (lambda x, y: x+' '+y if y else x), s.split(' '))"
   ]
  },
  {
   "cell_type": "code",
   "execution_count": 51,
   "metadata": {},
   "outputs": [
    {
     "name": "stdout",
     "output_type": "stream",
     "text": [
      "[]\n",
      "['A', 'B', 'c', 'D', 'E', '']\n",
      "['1', 'LastName', 'Sales', 'Country', 'Quarter', '']\n",
      "['2', 'smith', '1$16.753.00', 'uk', 'Qtr3', '']\n",
      "['3', 'Johnson', '$14.808.00', 'USA', 'Qtr', '4', '']\n",
      "['4', 'Williams', '$10.644.00', 'UK', 'Qtr2', '']\n",
      "['5', 'Jones', '$1390.00', 'USA', 'tr3', '']\n",
      "['6', 'Brown', '$4865.00', 'USA', 'tra', '']\n",
      "['7', 'Williams', '$12.438.00', 'UK', 'Qtr.', '']\n",
      "['8', 'Johnson', '$9339.00', 'UK', 'Qtr2', '']\n",
      "['9', 'smith', '$18919.00', 'USA', 'Qtr3', '']\n",
      "['10', 'Jones', '$9213.00', 'USA', 'Qtr', '']\n",
      "['11', 'Jones', '$7/433.00', 'UK', 'Qtr', '']\n",
      "['12/Brown', '$3255.00', 'USA', 'Qtr2', '']\n",
      "['13', 'Williams', '$14.867.00', 'USA', 'Qtr3', '']\n",
      "['14', 'Williams', '$19302.00', 'UK', 'atr4', '']\n",
      "['15', '/Smith', '$9.698.00', 'USA', 'Qtr', '']\n",
      "['16', '']\n"
     ]
    }
   ],
   "source": [
    "import csv\n",
    "\n",
    "csv.register_dialect('skip_space', skipinitialspace=True)\n",
    "with open('test2.csv', 'r') as f:\n",
    "    reader=csv.reader(f , delimiter=' ', dialect='skip_space')\n",
    "    for item in reader:\n",
    "        print(item)"
   ]
  },
  {
   "cell_type": "code",
   "execution_count": 52,
   "metadata": {},
   "outputs": [
    {
     "data": {
      "text/plain": [
       "list"
      ]
     },
     "execution_count": 52,
     "metadata": {},
     "output_type": "execute_result"
    }
   ],
   "source": [
    "type(item)"
   ]
  },
  {
   "cell_type": "code",
   "execution_count": 57,
   "metadata": {},
   "outputs": [
    {
     "data": {
      "text/html": [
       "<div>\n",
       "<style scoped>\n",
       "    .dataframe tbody tr th:only-of-type {\n",
       "        vertical-align: middle;\n",
       "    }\n",
       "\n",
       "    .dataframe tbody tr th {\n",
       "        vertical-align: top;\n",
       "    }\n",
       "\n",
       "    .dataframe thead th {\n",
       "        text-align: right;\n",
       "    }\n",
       "</style>\n",
       "<table border=\"1\" class=\"dataframe\">\n",
       "  <thead>\n",
       "    <tr style=\"text-align: right;\">\n",
       "      <th></th>\n",
       "      <th>A         B       c       D       E</th>\n",
       "    </tr>\n",
       "  </thead>\n",
       "  <tbody>\n",
       "    <tr>\n",
       "      <th>0</th>\n",
       "      <td>1  LastName  Sales    Country Quarter</td>\n",
       "    </tr>\n",
       "    <tr>\n",
       "      <th>1</th>\n",
       "      <td>2  smith    1$16.753.00 uk    Qtr3</td>\n",
       "    </tr>\n",
       "    <tr>\n",
       "      <th>2</th>\n",
       "      <td>3 Johnson    $14.808.00 USA   Qtr 4</td>\n",
       "    </tr>\n",
       "    <tr>\n",
       "      <th>3</th>\n",
       "      <td>4 Williams    $10.644.00 UK   Qtr2</td>\n",
       "    </tr>\n",
       "    <tr>\n",
       "      <th>4</th>\n",
       "      <td>5 Jones       $1390.00 USA    tr3</td>\n",
       "    </tr>\n",
       "  </tbody>\n",
       "</table>\n",
       "</div>"
      ],
      "text/plain": [
       "           A         B       c       D       E \n",
       "0        1  LastName  Sales    Country Quarter \n",
       "1           2  smith    1$16.753.00 uk    Qtr3 \n",
       "2          3 Johnson    $14.808.00 USA   Qtr 4 \n",
       "3           4 Williams    $10.644.00 UK   Qtr2 \n",
       "4            5 Jones       $1390.00 USA    tr3 "
      ]
     },
     "execution_count": 57,
     "metadata": {},
     "output_type": "execute_result"
    }
   ],
   "source": [
    "x=pd.read_csv('test2.csv')\n",
    "x.head()"
   ]
  },
  {
   "cell_type": "code",
   "execution_count": 64,
   "metadata": {},
   "outputs": [
    {
     "data": {
      "text/html": [
       "<div>\n",
       "<style scoped>\n",
       "    .dataframe tbody tr th:only-of-type {\n",
       "        vertical-align: middle;\n",
       "    }\n",
       "\n",
       "    .dataframe tbody tr th {\n",
       "        vertical-align: top;\n",
       "    }\n",
       "\n",
       "    .dataframe thead th {\n",
       "        text-align: right;\n",
       "    }\n",
       "</style>\n",
       "<table border=\"1\" class=\"dataframe\">\n",
       "  <thead>\n",
       "    <tr style=\"text-align: right;\">\n",
       "      <th></th>\n",
       "      <th>0</th>\n",
       "      <th>1</th>\n",
       "      <th>2</th>\n",
       "      <th>3</th>\n",
       "      <th>4</th>\n",
       "      <th>5</th>\n",
       "    </tr>\n",
       "  </thead>\n",
       "  <tbody>\n",
       "    <tr>\n",
       "      <th>0</th>\n",
       "      <td>1</td>\n",
       "      <td>LastName</td>\n",
       "      <td>Sales</td>\n",
       "      <td>Country</td>\n",
       "      <td>Quarter</td>\n",
       "      <td>None</td>\n",
       "    </tr>\n",
       "    <tr>\n",
       "      <th>1</th>\n",
       "      <td>2</td>\n",
       "      <td>smith</td>\n",
       "      <td>1$16.753.00</td>\n",
       "      <td>uk</td>\n",
       "      <td>Qtr3</td>\n",
       "      <td>None</td>\n",
       "    </tr>\n",
       "    <tr>\n",
       "      <th>2</th>\n",
       "      <td>3</td>\n",
       "      <td>Johnson</td>\n",
       "      <td>$14.808.00</td>\n",
       "      <td>USA</td>\n",
       "      <td>Qtr</td>\n",
       "      <td>4</td>\n",
       "    </tr>\n",
       "    <tr>\n",
       "      <th>3</th>\n",
       "      <td>4</td>\n",
       "      <td>Williams</td>\n",
       "      <td>$10.644.00</td>\n",
       "      <td>UK</td>\n",
       "      <td>Qtr2</td>\n",
       "      <td>None</td>\n",
       "    </tr>\n",
       "    <tr>\n",
       "      <th>4</th>\n",
       "      <td>5</td>\n",
       "      <td>Jones</td>\n",
       "      <td>$1390.00</td>\n",
       "      <td>USA</td>\n",
       "      <td>tr3</td>\n",
       "      <td>None</td>\n",
       "    </tr>\n",
       "    <tr>\n",
       "      <th>5</th>\n",
       "      <td>6</td>\n",
       "      <td>Brown</td>\n",
       "      <td>$4865.00</td>\n",
       "      <td>USA</td>\n",
       "      <td>tra</td>\n",
       "      <td>None</td>\n",
       "    </tr>\n",
       "    <tr>\n",
       "      <th>6</th>\n",
       "      <td>7</td>\n",
       "      <td>Williams</td>\n",
       "      <td>$12.438.00</td>\n",
       "      <td>UK</td>\n",
       "      <td>Qtr.</td>\n",
       "      <td>None</td>\n",
       "    </tr>\n",
       "    <tr>\n",
       "      <th>7</th>\n",
       "      <td>8</td>\n",
       "      <td>Johnson</td>\n",
       "      <td>$9339.00</td>\n",
       "      <td>UK</td>\n",
       "      <td>Qtr2</td>\n",
       "      <td>None</td>\n",
       "    </tr>\n",
       "    <tr>\n",
       "      <th>8</th>\n",
       "      <td>9</td>\n",
       "      <td>smith</td>\n",
       "      <td>$18919.00</td>\n",
       "      <td>USA</td>\n",
       "      <td>Qtr3</td>\n",
       "      <td>None</td>\n",
       "    </tr>\n",
       "    <tr>\n",
       "      <th>9</th>\n",
       "      <td>10</td>\n",
       "      <td>Jones</td>\n",
       "      <td>$9213.00</td>\n",
       "      <td>USA</td>\n",
       "      <td>Qtr</td>\n",
       "      <td>None</td>\n",
       "    </tr>\n",
       "    <tr>\n",
       "      <th>10</th>\n",
       "      <td>11</td>\n",
       "      <td>Jones</td>\n",
       "      <td>$7/433.00</td>\n",
       "      <td>UK</td>\n",
       "      <td>Qtr</td>\n",
       "      <td>None</td>\n",
       "    </tr>\n",
       "    <tr>\n",
       "      <th>11</th>\n",
       "      <td>12/Brown</td>\n",
       "      <td>$3255.00</td>\n",
       "      <td>USA</td>\n",
       "      <td>Qtr2</td>\n",
       "      <td>None</td>\n",
       "      <td>None</td>\n",
       "    </tr>\n",
       "    <tr>\n",
       "      <th>12</th>\n",
       "      <td>13</td>\n",
       "      <td>Williams</td>\n",
       "      <td>$14.867.00</td>\n",
       "      <td>USA</td>\n",
       "      <td>Qtr3</td>\n",
       "      <td>None</td>\n",
       "    </tr>\n",
       "    <tr>\n",
       "      <th>13</th>\n",
       "      <td>14</td>\n",
       "      <td>Williams</td>\n",
       "      <td>$19302.00</td>\n",
       "      <td>UK</td>\n",
       "      <td>atr4</td>\n",
       "      <td>None</td>\n",
       "    </tr>\n",
       "    <tr>\n",
       "      <th>14</th>\n",
       "      <td>15</td>\n",
       "      <td>/Smith</td>\n",
       "      <td>$9.698.00</td>\n",
       "      <td>USA</td>\n",
       "      <td>Qtr</td>\n",
       "      <td>None</td>\n",
       "    </tr>\n",
       "    <tr>\n",
       "      <th>15</th>\n",
       "      <td>16</td>\n",
       "      <td>None</td>\n",
       "      <td>None</td>\n",
       "      <td>None</td>\n",
       "      <td>None</td>\n",
       "      <td>None</td>\n",
       "    </tr>\n",
       "  </tbody>\n",
       "</table>\n",
       "</div>"
      ],
      "text/plain": [
       "           0         1            2        3        4     5\n",
       "0          1  LastName        Sales  Country  Quarter  None\n",
       "1          2     smith  1$16.753.00       uk     Qtr3  None\n",
       "2          3   Johnson   $14.808.00      USA      Qtr     4\n",
       "3          4  Williams   $10.644.00       UK     Qtr2  None\n",
       "4          5     Jones     $1390.00      USA      tr3  None\n",
       "5          6     Brown     $4865.00      USA      tra  None\n",
       "6          7  Williams   $12.438.00       UK     Qtr.  None\n",
       "7          8   Johnson     $9339.00       UK     Qtr2  None\n",
       "8          9     smith    $18919.00      USA     Qtr3  None\n",
       "9         10     Jones     $9213.00      USA      Qtr  None\n",
       "10        11     Jones    $7/433.00       UK      Qtr  None\n",
       "11  12/Brown  $3255.00          USA     Qtr2     None  None\n",
       "12        13  Williams   $14.867.00      USA     Qtr3  None\n",
       "13        14  Williams    $19302.00       UK     atr4  None\n",
       "14        15    /Smith    $9.698.00      USA      Qtr  None\n",
       "15        16      None         None     None     None  None"
      ]
     },
     "execution_count": 64,
     "metadata": {},
     "output_type": "execute_result"
    }
   ],
   "source": [
    "c=pd.DataFrame([' '.join(r).split() for r in x.values])\n",
    "c"
   ]
  },
  {
   "cell_type": "code",
   "execution_count": 65,
   "metadata": {},
   "outputs": [],
   "source": [
    "c.to_csv('test3.csv')"
   ]
  },
  {
   "cell_type": "code",
   "execution_count": null,
   "metadata": {},
   "outputs": [],
   "source": []
  }
 ],
 "metadata": {
  "kernelspec": {
   "display_name": "Python 3",
   "language": "python",
   "name": "python3"
  },
  "language_info": {
   "codemirror_mode": {
    "name": "ipython",
    "version": 3
   },
   "file_extension": ".py",
   "mimetype": "text/x-python",
   "name": "python",
   "nbconvert_exporter": "python",
   "pygments_lexer": "ipython3",
   "version": "3.8.5"
  }
 },
 "nbformat": 4,
 "nbformat_minor": 4
}
